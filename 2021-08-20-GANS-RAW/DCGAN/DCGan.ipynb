{
 "cells": [
  {
   "cell_type": "code",
   "execution_count": 2,
   "source": [
    "import torch\r\n",
    "import torch.nn as nn\r\n",
    "import torch.optim as optim\r\n",
    "import torchvision\r\n",
    "import torchvision.datasets as datasets\r\n",
    "import torchvision.transforms as transforms\r\n",
    "\r\n",
    "from torch.utils.data import DataLoader\r\n",
    "from torch.utils.tensorboard import SummaryWriter"
   ],
   "outputs": [],
   "metadata": {}
  },
  {
   "cell_type": "code",
   "execution_count": null,
   "source": [
    "class Discriminator(nn.Module):\r\n",
    "    def __init__(self, channels_img, features_d):\r\n",
    "        super(Discriminator, self).__init__()\r\n",
    "        #Input: N x img_channels x 64 x 64\r\n",
    "        self.disc = nn.Sequential(\r\n",
    "            nn.Conv2d(channels_img, features_d, kernel_size=4, stride=2, padding=1),\r\n",
    "            # 32 x 32 \r\n",
    "            nn.LeakyReLU(0.2),\r\n",
    "            self._block(features_d, features_d*2, 4, 2, 1), # 16x16\r\n",
    "            self._block(features_d*2, features_d*4, 4, 2, 1), # 8x8\r\n",
    "            self._block(features_d*4, features_d*8, 4, 2, 1), # 4x4\r\n",
    "            nn.Conv2d(features_d * 8, 1, kernel_size=4, stride=2, padding=0), # 1x1 \r\n",
    "            nn.Sigmoid()\r\n",
    "        )\r\n",
    "\r\n",
    "\r\n",
    "    def _block(self, in_channels, out_channels, kernel_size, stride, padding):\r\n",
    "        return nn.Sequential(\r\n",
    "            nn.Conv2d(\r\n",
    "                in_channels,\r\n",
    "                out_channels,\r\n",
    "                kernel_size,\r\n",
    "                stride,\r\n",
    "                padding,\r\n",
    "                bias=False\r\n",
    "            ),\r\n",
    "            nn.BatchNorm2d(out_channels),\r\n",
    "            nn.LeakyReLU(0.2)\r\n",
    "        )\r\n",
    "\r\n",
    "    def forward(self, x):\r\n",
    "        return self.disc(x)\r\n"
   ],
   "outputs": [],
   "metadata": {}
  },
  {
   "cell_type": "code",
   "execution_count": null,
   "source": [
    "class Generator(nn.Module):\r\n",
    "    def __init__(self, z_dim, channels_img, features_g):\r\n",
    "        super(Generator, self).__init__()\r\n",
    "        # Input: N x z_dim x 1 x 1\r\n",
    "        self.gen = nn.Sequential(\r\n",
    "            self._block(z_dim, features_g*16, 4, 1, 0), # N x f_g*16 x 4 x 4\r\n",
    "            self._block(features_g*16, features_g * 8, 4, 2, 1), # 8 x 8\r\n",
    "            self._block(features_g*8, features_g * 4, 4, 2, 1), # 16 x 16\r\n",
    "            self._block(features_g*4, features_g * 2, 4, 2, 1), # 32 x 32\r\n",
    "            nn.ConvTranspose2d(\r\n",
    "                features_g*2,\r\n",
    "                channels_img,\r\n",
    "                4,2,1\r\n",
    "            ), # 64 x 64\r\n",
    "            nn.Tanh()\r\n",
    "        )        \r\n",
    "    \r\n",
    "    def _block(self, in_channels, out_channels, kernel_size, stride, padding):\r\n",
    "        return nn.Sequential(\r\n",
    "            nn.ConvTranspose2d(\r\n",
    "                in_channels,\r\n",
    "                out_channels,\r\n",
    "                kernel_size,\r\n",
    "                stride,\r\n",
    "                padding,\r\n",
    "                bias=False\r\n",
    "            ),\r\n",
    "            nn.BatchNorm2d(out_channels),\r\n",
    "            nn.ReLU()\r\n",
    "        )\r\n",
    "    \r\n",
    "    def forward(self, x):\r\n",
    "        return self.gen(x)\r\n"
   ],
   "outputs": [],
   "metadata": {}
  },
  {
   "cell_type": "code",
   "execution_count": null,
   "source": [
    "def initialize_weights(model):\r\n",
    "    for m in model.modules():\r\n",
    "        if isinstance(m, (nn.Conv2d, nn.ConvTranspose2d, nn.BatchNorm2d)):\r\n",
    "            nn.init.normal_(m.weight.data, 0.0, 0.02)"
   ],
   "outputs": [],
   "metadata": {}
  },
  {
   "cell_type": "code",
   "execution_count": 3,
   "source": [
    "device = torch.device(\"cuda\") if torch.cuda.is_available() else \"cpu\"\r\n",
    "LEARNING_RATE=2e-4\r\n",
    "BATCH_SIZE = 128\r\n",
    "IMAGE_SIZE = 64\r\n",
    "CHANNELS_IMG = 1\r\n",
    "Z_DIM = 100\r\n",
    "NUM_EPOCHS = 5\r\n",
    "FEATURES_DISC = 64\r\n",
    "FEATURES_GEN = 64"
   ],
   "outputs": [],
   "metadata": {}
  },
  {
   "cell_type": "code",
   "execution_count": 4,
   "source": [
    "transform = transforms.Compose(\r\n",
    "    [\r\n",
    "        transforms.Resize(IMAGE_SIZE),\r\n",
    "        transforms.ToTensor(),\r\n",
    "        transforms.Normalize(\r\n",
    "           [0.5 for _ in range(CHANNELS_IMG)],\r\n",
    "           [0.5 for _ in range(CHANNELS_IMG)]\r\n",
    "        )\r\n",
    "    ]\r\n",
    ")\r\n",
    "\r\n",
    "dataset=datasets.MNIST(\r\n",
    "    root=\"./dataset/\",\r\n",
    "    train=True,\r\n",
    "    transform=transform,\r\n",
    "    download=True\r\n",
    "    )\r\n",
    "    \r\n",
    "loader =  DataLoader(dataset, batch_size=BATCH_SIZE, shuffle=True)"
   ],
   "outputs": [
    {
     "output_type": "stream",
     "name": "stdout",
     "text": [
      "Downloading http://yann.lecun.com/exdb/mnist/train-images-idx3-ubyte.gz\n",
      "Downloading http://yann.lecun.com/exdb/mnist/train-images-idx3-ubyte.gz to ./dataset/MNIST\\raw\\train-images-idx3-ubyte.gz\n"
     ]
    },
    {
     "output_type": "stream",
     "name": "stderr",
     "text": [
      "100.0%\n"
     ]
    },
    {
     "output_type": "stream",
     "name": "stdout",
     "text": [
      "Extracting ./dataset/MNIST\\raw\\train-images-idx3-ubyte.gz to ./dataset/MNIST\\raw\n",
      "\n",
      "Downloading http://yann.lecun.com/exdb/mnist/train-labels-idx1-ubyte.gz\n",
      "Downloading http://yann.lecun.com/exdb/mnist/train-labels-idx1-ubyte.gz to ./dataset/MNIST\\raw\\train-labels-idx1-ubyte.gz\n"
     ]
    },
    {
     "output_type": "stream",
     "name": "stderr",
     "text": [
      "102.8%\n"
     ]
    },
    {
     "output_type": "stream",
     "name": "stdout",
     "text": [
      "Extracting ./dataset/MNIST\\raw\\train-labels-idx1-ubyte.gz to ./dataset/MNIST\\raw\n",
      "\n",
      "Downloading http://yann.lecun.com/exdb/mnist/t10k-images-idx3-ubyte.gz\n",
      "Downloading http://yann.lecun.com/exdb/mnist/t10k-images-idx3-ubyte.gz to ./dataset/MNIST\\raw\\t10k-images-idx3-ubyte.gz\n",
      "Failed to download (trying next):\n",
      "HTTP Error 503: Service Unavailable\n",
      "\n",
      "Downloading https://ossci-datasets.s3.amazonaws.com/mnist/t10k-images-idx3-ubyte.gz\n",
      "Downloading https://ossci-datasets.s3.amazonaws.com/mnist/t10k-images-idx3-ubyte.gz to ./dataset/MNIST\\raw\\t10k-images-idx3-ubyte.gz\n"
     ]
    },
    {
     "output_type": "stream",
     "name": "stderr",
     "text": [
      "100.0%\n"
     ]
    },
    {
     "output_type": "stream",
     "name": "stdout",
     "text": [
      "Extracting ./dataset/MNIST\\raw\\t10k-images-idx3-ubyte.gz to ./dataset/MNIST\\raw\n",
      "\n",
      "Downloading http://yann.lecun.com/exdb/mnist/t10k-labels-idx1-ubyte.gz\n",
      "Downloading http://yann.lecun.com/exdb/mnist/t10k-labels-idx1-ubyte.gz to ./dataset/MNIST\\raw\\t10k-labels-idx1-ubyte.gz\n"
     ]
    },
    {
     "output_type": "stream",
     "name": "stderr",
     "text": [
      "112.7%"
     ]
    },
    {
     "output_type": "stream",
     "name": "stdout",
     "text": [
      "Extracting ./dataset/MNIST\\raw\\t10k-labels-idx1-ubyte.gz to ./dataset/MNIST\\raw\n",
      "\n"
     ]
    },
    {
     "output_type": "stream",
     "name": "stderr",
     "text": [
      "\n",
      "C:\\Users\\jameslcc\\Miniconda3\\envs\\dl\\lib\\site-packages\\torchvision\\datasets\\mnist.py:498: UserWarning: The given NumPy array is not writeable, and PyTorch does not support non-writeable tensors. This means you can write to the underlying (supposedly non-writeable) NumPy array using the tensor. You may want to copy the array to protect its data or make it writeable before converting it to a tensor. This type of warning will be suppressed for the rest of this program. (Triggered internally at  ..\\torch\\csrc\\utils\\tensor_numpy.cpp:180.)\n",
      "  return torch.from_numpy(parsed.astype(m[2], copy=False)).view(*s)\n"
     ]
    }
   ],
   "metadata": {}
  },
  {
   "cell_type": "code",
   "execution_count": 5,
   "source": [
    "gen  = Generator(Z_DIM, CHANNELS_IMG, FEATURES_GEN).to(device)\r\n",
    "disc = Discriminator(CHANNELS_IMG, FEATURES_DISC).to(device)\r\n",
    "\r\n",
    "initialize_weights(gen)\r\n",
    "initialize_weights(disc)\r\n",
    "\r\n",
    "opt_gen = optim.Adam(gen.parameters(), lr=LEARNING_RATE, betas=(0.5,0.999))\r\n",
    "opt_disc = optim.Adam(disc.parameters(), lr=LEARNING_RATE, betas=(0.5,0.999))\r\n",
    "criterion = nn.BCELoss()\r\n",
    "\r\n",
    "fixed_noise = torch.randn(32, Z_DIM, 1, 1).to(device)\r\n",
    "writer_real = SummaryWriter(f\"./logs/real\")\r\n",
    "writer_fake = SummaryWriter(f\"./logs/fake\")\r\n",
    "\r\n",
    "step = 0"
   ],
   "outputs": [
    {
     "output_type": "stream",
     "name": "stderr",
     "text": [
      "<frozen importlib._bootstrap>:219: RuntimeWarning: numpy.ndarray size changed, may indicate binary incompatibility. Expected 80 from C header, got 88 from PyObject\n"
     ]
    }
   ],
   "metadata": {}
  },
  {
   "cell_type": "code",
   "execution_count": 28,
   "source": [
    "gen.train()\r\n",
    "disc.train()"
   ],
   "outputs": [],
   "metadata": {}
  },
  {
   "cell_type": "code",
   "execution_count": 8,
   "source": [
    "for epoch in range(NUM_EPOCHS):\r\n",
    "    for batch_idx, (real, _) in enumerate(loader):\r\n",
    "        real = real.to(device)\r\n",
    "        noise = torch.randn((BATCH_SIZE, Z_DIM, 1, 1)).to(device)\r\n",
    "        fake = gen(noise)\r\n",
    "\r\n",
    "        disc_real = disc(real).reshape(-1)\r\n",
    "        disc_fake = disc(fake.detach()).reshape(-1)\r\n",
    "\r\n",
    "        loss_disc_real = criterion(disc_real, torch.ones_like(disc_real))\r\n",
    "        loss_disc_fake = criterion(disc_fake, torch.zeros_like(disc_fake))\r\n",
    "\r\n",
    "        loss_disc = (loss_disc_fake + loss_disc_real)/2\r\n",
    "        \r\n",
    "        disc.zero_grad()\r\n",
    "        loss_disc.backward()\r\n",
    "        opt_disc.step()\r\n",
    "\r\n",
    "        output = disc(fake).reshape(-1)\r\n",
    "        loss_gen = criterion(output, torch.ones_like(output))\r\n",
    "\r\n",
    "        gen.zero_grad()\r\n",
    "        loss_gen.backward()\r\n",
    "        opt_gen.step()\r\n",
    "\r\n",
    "        if batch_idx == 0:\r\n",
    "            print(\r\n",
    "                f\"Epoch [{epoch}/{NUM_EPOCHS}] Batch {batch_idx}/{len(loader)} \\\r\n",
    "                        Loss D: {loss_disc:.4f}, loss G: {loss_gen:.4f}\"\r\n",
    "            )\r\n",
    "\r\n",
    "            with torch.no_grad():\r\n",
    "                fake = gen(fixed_noise)\r\n",
    "\r\n",
    "                img_grid_fake = torchvision.utils.make_grid(fake[:32], normalize=True)\r\n",
    "                img_grid_real = torchvision.utils.make_grid(real[:32], normalize=True)\r\n",
    "\r\n",
    "                writer_fake.add_image(\r\n",
    "                    \"Mnist Fake Images\", img_grid_fake, global_step=step\r\n",
    "                )\r\n",
    "                writer_real.add_image(\r\n",
    "                    \"Mnist Real Images\", img_grid_real, global_step=step\r\n",
    "                )\r\n",
    "                step += 1"
   ],
   "outputs": [
    {
     "output_type": "stream",
     "name": "stdout",
     "text": [
      "Epoch [0/5] Batch 0/469                         Loss D: 0.6425, loss G: 0.8315\n"
     ]
    }
   ],
   "metadata": {}
  },
  {
   "cell_type": "code",
   "execution_count": 32,
   "source": [],
   "outputs": [],
   "metadata": {}
  },
  {
   "cell_type": "code",
   "execution_count": 33,
   "source": [],
   "outputs": [],
   "metadata": {}
  },
  {
   "cell_type": "code",
   "execution_count": null,
   "source": [],
   "outputs": [],
   "metadata": {}
  }
 ],
 "metadata": {
  "orig_nbformat": 4,
  "language_info": {
   "name": "python",
   "version": "3.8.11",
   "mimetype": "text/x-python",
   "codemirror_mode": {
    "name": "ipython",
    "version": 3
   },
   "pygments_lexer": "ipython3",
   "nbconvert_exporter": "python",
   "file_extension": ".py"
  },
  "kernelspec": {
   "name": "python3",
   "display_name": "Python 3.8.11 64-bit ('dl': conda)"
  },
  "interpreter": {
   "hash": "6b1f039069d6172ef73d0b939796bfc9640c29d76fb9386aa8f90c7cbce2c865"
  }
 },
 "nbformat": 4,
 "nbformat_minor": 2
}